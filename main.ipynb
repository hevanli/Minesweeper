{
 "cells": [
  {
   "cell_type": "markdown",
   "metadata": {},
   "source": [
    "# Minesweeper !"
   ]
  },
  {
   "cell_type": "markdown",
   "metadata": {},
   "source": [
    "## imports "
   ]
  },
  {
   "cell_type": "code",
   "execution_count": 23,
   "metadata": {},
   "outputs": [],
   "source": [
    "import pygame\n",
    "import random\n",
    "from queue import Queue\n",
    "import time"
   ]
  },
  {
   "cell_type": "markdown",
   "metadata": {},
   "source": [
    "## globals and intilization"
   ]
  },
  {
   "cell_type": "code",
   "execution_count": 24,
   "metadata": {},
   "outputs": [],
   "source": [
    "WIDTH, HEIGHT = 625, 750\n",
    "BG_COLOR = \"white\"\n",
    "# ROWS, COLS = 25, 25\n",
    "# BOMBS = 75\n",
    "ROWS, COLS = 25, 25\n",
    "BOMBS = 75\n",
    "SIZE = WIDTH / ROWS\n",
    "\n",
    "pygame.init()\n",
    "NUM_FONT = pygame.font.SysFont('comicsans', 20)\n",
    "LOST_FONT = pygame.font.SysFont('comicsans', 80)\n",
    "TIME_FONT = pygame.font.SysFont('comicsans', 50)\n",
    "NUM_COLORS = {1: \"black\", 2: \"green\", 3: \"red\", 4: \"orange\", 5: \"yellow\", 6: \"purple\", 7: \"blue\", 8: \"pink\"}\n",
    "\n",
    "RECT_COLOR = (200, 200, 200)\n",
    "CLICKED_RECT_COLOR = (140, 140, 140)\n",
    "FLAG_RECT_COLOR = \"green\"\n",
    "BOMB_COLOR = \"red\""
   ]
  },
  {
   "cell_type": "markdown",
   "metadata": {},
   "source": [
    "## functions"
   ]
  },
  {
   "cell_type": "markdown",
   "metadata": {},
   "source": [
    "#### create mine field "
   ]
  },
  {
   "cell_type": "code",
   "execution_count": 25,
   "metadata": {},
   "outputs": [],
   "source": [
    "def create_mine_field(rows, cols, mines):\n",
    "    field = [[0 for _ in range(cols)] for _ in range(rows)]\n",
    "    mine_positions = set()\n",
    "\n",
    "    while len(mine_positions) < mines:\n",
    "        row = random.randrange(0, rows)\n",
    "        col = random.randrange(0, cols)\n",
    "        pos = row, col\n",
    "\n",
    "        if pos in mine_positions:\n",
    "            continue\n",
    "\n",
    "        mine_positions.add(pos)\n",
    "        field[row][col] = -1\n",
    "    \n",
    "    for mine in mine_positions:\n",
    "        neighbors = get_neighbors(*mine, rows, cols)\n",
    "        for r, c in neighbors:\n",
    "            if field[r][c] != -1:\n",
    "                field[r][c] += 1\n",
    "    \n",
    "    return field\n"
   ]
  },
  {
   "cell_type": "markdown",
   "metadata": {},
   "source": [
    "#### draw"
   ]
  },
  {
   "cell_type": "code",
   "execution_count": 26,
   "metadata": {},
   "outputs": [],
   "source": [
    "def draw(win, field, cover_field, current_time):\n",
    "    win.fill(BG_COLOR)\n",
    "    \n",
    "    time_text = TIME_FONT.render(f\"Time Elapsed: {round(current_time)}\", 1, \"black\")\n",
    "    win.blit(time_text, (10, HEIGHT - time_text.get_height()))\n",
    "\n",
    "    for i, row in enumerate(field):\n",
    "        y = SIZE * i\n",
    "        for j, value in enumerate(row):\n",
    "            x = SIZE * j\n",
    "            \n",
    "            is_covered = cover_field[i][j] == 0\n",
    "            is_flag = cover_field[i][j] == -2\n",
    "            is_bomb = value == -1\n",
    "            if is_flag:\n",
    "                pygame.draw.rect(win, FLAG_RECT_COLOR, (x, y, SIZE, SIZE))\n",
    "                pygame.draw.rect(win, \"black\", (x, y, SIZE, SIZE), 1)\n",
    "                continue\n",
    "\n",
    "            if is_covered:\n",
    "                pygame.draw.rect(win, RECT_COLOR, (x, y, SIZE, SIZE))\n",
    "                pygame.draw.rect(win, \"black\", (x, y, SIZE, SIZE), 1)\n",
    "                continue\n",
    "            \n",
    "            else:\n",
    "                pygame.draw.rect(win, CLICKED_RECT_COLOR, (x, y, SIZE, SIZE))\n",
    "                pygame.draw.rect(win, \"black\", (x, y, SIZE, SIZE), 1)\n",
    "                if is_bomb:\n",
    "                    pygame.draw.circle(win, BOMB_COLOR, (x + SIZE/2, y + SIZE/2), SIZE/2 - 4)\n",
    "\n",
    "\n",
    "            if value > 0:\n",
    "                text = NUM_FONT.render(str(value), 1, NUM_COLORS[value]) # the 1 means anti aliasing\n",
    "                win.blit(text, (x + (SIZE/2 - text.get_width()/2), y + (SIZE/2 - text.get_height()/2)))\n",
    "\n",
    "\n",
    "    pygame.display.update()"
   ]
  },
  {
   "cell_type": "markdown",
   "metadata": {},
   "source": [
    "#### get neighbors"
   ]
  },
  {
   "cell_type": "code",
   "execution_count": 27,
   "metadata": {},
   "outputs": [],
   "source": [
    "def get_neighbors(row, col, rows, cols):\n",
    "    neighbors = []\n",
    "\n",
    "    if row > 0: # UP\n",
    "        neighbors.append((row - 1, col))\n",
    "    if row < rows - 1: # DOWN\n",
    "        neighbors.append((row + 1, col))\n",
    "    if col > 0: # LEFT\n",
    "        neighbors.append((row, col - 1))\n",
    "    if col < cols - 1: # RIGHT\n",
    "        neighbors.append((row, col + 1))\n",
    "\n",
    "    if row > 0 and col > 0:\n",
    "        neighbors.append((row - 1, col -1))\n",
    "    if row < rows -1 and col < cols - 1:\n",
    "        neighbors.append((row + 1, col+1))\n",
    "    if row < rows - 1 and col > 0:\n",
    "        neighbors.append((row + 1, col - 1))\n",
    "    if row > 0 and col < cols - 1:\n",
    "        neighbors.append((row - 1, col + 1))\n",
    "\n",
    "    return neighbors"
   ]
  },
  {
   "cell_type": "markdown",
   "metadata": {},
   "source": [
    "#### get grid pos from mouse click"
   ]
  },
  {
   "cell_type": "code",
   "execution_count": 28,
   "metadata": {},
   "outputs": [],
   "source": [
    "def get_grid_pos(mouse_pos):\n",
    "    mx, my = mouse_pos\n",
    "    row = int(my // SIZE)\n",
    "    col = int(mx // SIZE)\n",
    "\n",
    "    return row, col"
   ]
  },
  {
   "cell_type": "markdown",
   "metadata": {},
   "source": [
    "#### uncover from position"
   ]
  },
  {
   "cell_type": "code",
   "execution_count": 29,
   "metadata": {},
   "outputs": [],
   "source": [
    "\"\"\"\n",
    "uncovers all the neighboring tiles that are numbered and if one of the neighbors have a value of 0, finds the neighbors of those ones too and on and on...\n",
    "\"\"\"\n",
    "def uncover_from_pos(row, col, cover_field, field):\n",
    "    q = Queue()\n",
    "    q.put((row, col))\n",
    "    visited = set()\n",
    "\n",
    "    while not q.empty():\n",
    "        current = q.get()\n",
    "\n",
    "        neighbors = get_neighbors(*current, ROWS, COLS)\n",
    "        for r, c in neighbors:\n",
    "            if (r, c) in visited:\n",
    "                continue\n",
    "\n",
    "            value = field[r][c]\n",
    "            if value == 0 and cover_field[r][c] != -2:\n",
    "                q.put((r,c))\n",
    "            if cover_field[r][c] != -2:\n",
    "                cover_field[r][c] = 1\n",
    "\n",
    "            visited.add((r, c))\n"
   ]
  },
  {
   "cell_type": "markdown",
   "metadata": {},
   "source": [
    "#### draw end game text"
   ]
  },
  {
   "cell_type": "code",
   "execution_count": 30,
   "metadata": {},
   "outputs": [],
   "source": [
    "def draw_game_end(win, text):\n",
    "    text = LOST_FONT.render(text, 1, \"black\")\n",
    "    win.blit(text, (WIDTH/2 - text.get_width()/2, HEIGHT/2 - text.get_height()/2))\n",
    "    pygame.display.update()"
   ]
  },
  {
   "cell_type": "markdown",
   "metadata": {},
   "source": [
    "#### check if game won"
   ]
  },
  {
   "cell_type": "code",
   "execution_count": 31,
   "metadata": {},
   "outputs": [],
   "source": [
    "def check_for_win(cover_field):\n",
    "    uncovered_count = 0\n",
    "\n",
    "    for row in cover_field:\n",
    "        for value in row:\n",
    "            if value == 0 or value == -2:\n",
    "                uncovered_count += 1\n",
    "\n",
    "    # for row in range(ROWS):\n",
    "    #     for col in range(COLS):\n",
    "    #         if cover_field[row][col] != 0:\n",
    "    #             uncovered_count += 1\n",
    "    if uncovered_count == BOMBS:\n",
    "        return True\n",
    "    else:\n",
    "        return False"
   ]
  },
  {
   "cell_type": "markdown",
   "metadata": {},
   "source": [
    "## main function"
   ]
  },
  {
   "cell_type": "code",
   "execution_count": 32,
   "metadata": {},
   "outputs": [],
   "source": [
    "win = pygame.display.set_mode((WIDTH, HEIGHT)) # intializing window\n",
    "pygame.display.set_caption(\"Minesweeper\")\n",
    "\n",
    "run = True\n",
    "field = create_mine_field(ROWS, COLS, BOMBS)\n",
    "cover_field = [[0 for _ in range(COLS)] for _ in range(ROWS)]\n",
    "flags = BOMBS\n",
    "clicks = 0\n",
    "lost = False\n",
    "won = False\n",
    "\n",
    "running = False\n",
    "\n",
    "start_time = current_time = 0\n",
    "while run:\n",
    "    if start_time > 0:\n",
    "        current_time = time.time() - start_time\n",
    "\n",
    "    for event in pygame.event.get():\n",
    "        if event.type == pygame.QUIT:\n",
    "            run = False\n",
    "            break\n",
    "\n",
    "        if event.type == pygame.MOUSEBUTTONDOWN:\n",
    "            row, col = get_grid_pos(pygame.mouse.get_pos())\n",
    "            if row >= ROWS or col >= COLS:\n",
    "                continue\n",
    "\n",
    "            mouse_pressed = pygame.mouse.get_pressed()\n",
    "            if mouse_pressed[0] and cover_field[row][col] != -2: # left mouse button\n",
    "                cover_field[row][col] = 1\n",
    "\n",
    "                if field[row][col] == -1: #bomb clicked, reset\n",
    "                    lost = True\n",
    "\n",
    "                if field[row][col] == 0:\n",
    "                    uncover_from_pos(row, col, cover_field, field)\n",
    "                \n",
    "                if clicks == 0:\n",
    "                    start_time = time.time()\n",
    "                clicks += 1\n",
    "                if check_for_win(cover_field):\n",
    "                    won = True\n",
    "                \n",
    "            elif mouse_pressed[2] and cover_field[row][col] != 1:\n",
    "                if cover_field[row][col] == -2:\n",
    "                    cover_field[row][col] = 0\n",
    "                    flags += 1\n",
    "                else:\n",
    "                    flags -= 1\n",
    "                    cover_field[row][col] = -2\n",
    "    if lost:\n",
    "        draw(win, field, cover_field, current_time)\n",
    "        draw_game_end(win, \"you suck\")\n",
    "        pygame.time.delay(5000)\n",
    "\n",
    "        field = create_mine_field(ROWS, COLS, BOMBS)\n",
    "        cover_field = [[0 for _ in range(COLS)] for _ in range(ROWS)]\n",
    "        flags = BOMBS\n",
    "        clicks = 0\n",
    "        lost = False\n",
    "        start_time = 0\n",
    "\n",
    "    elif won:\n",
    "        draw(win, field, cover_field, current_time)\n",
    "        draw_game_end(win, \"wow you won!\")\n",
    "        pygame.time.delay(5000)\n",
    "\n",
    "        field = create_mine_field(ROWS, COLS, BOMBS)\n",
    "        cover_field = [[0 for _ in range(COLS)] for _ in range(ROWS)]\n",
    "        flags = BOMBS\n",
    "        clicks = 0\n",
    "        won = False\n",
    "        start_time = 0\n",
    "    \n",
    "    draw(win, field, cover_field, current_time)\n",
    "pygame.quit()"
   ]
  },
  {
   "cell_type": "markdown",
   "metadata": {},
   "source": [
    "### List Comprehension notes"
   ]
  },
  {
   "cell_type": "markdown",
   "metadata": {},
   "source": [
    "**List Comprehensions**:\n",
    "    [expr for val in collection]\n",
    "    ^ first expression generates elements in the list\n",
    "        follow it with a for loop over some collection of data\n",
    "    [expr for val in collection if <test>]\n",
    "    [expr for val in collection if <test1> and <test2>]"
   ]
  },
  {
   "cell_type": "code",
   "execution_count": 33,
   "metadata": {},
   "outputs": [],
   "source": [
    "squares = [i**2 for i in range(1, 101)]\n",
    "# print(squares)\n",
    "remainders5 = [x**2 % 5 for x in range(1,101)]\n",
    "# print(remainders5)\n",
    "remainders11 = [x**2 %11 for x in range(1,101)]\n",
    "# print(remainders11)\n",
    "\n"
   ]
  }
 ],
 "metadata": {
  "interpreter": {
   "hash": "aee8b7b246df8f9039afb4144a1f6fd8d2ca17a180786b69acc140d282b71a49"
  },
  "kernelspec": {
   "display_name": "Python 3.10.4 64-bit",
   "language": "python",
   "name": "python3"
  },
  "language_info": {
   "codemirror_mode": {
    "name": "ipython",
    "version": 3
   },
   "file_extension": ".py",
   "mimetype": "text/x-python",
   "name": "python",
   "nbconvert_exporter": "python",
   "pygments_lexer": "ipython3",
   "version": "3.10.4"
  },
  "orig_nbformat": 4
 },
 "nbformat": 4,
 "nbformat_minor": 2
}
