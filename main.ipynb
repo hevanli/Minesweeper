{
 "cells": [
  {
   "cell_type": "markdown",
   "metadata": {},
   "source": [
    "# Minesweeper !"
   ]
  },
  {
   "cell_type": "markdown",
   "metadata": {},
   "source": [
    "### imports and initializations"
   ]
  },
  {
   "cell_type": "code",
   "execution_count": 56,
   "metadata": {},
   "outputs": [],
   "source": [
    "import pygame\n",
    "import random"
   ]
  },
  {
   "cell_type": "markdown",
   "metadata": {},
   "source": [
    "### globals and intilization"
   ]
  },
  {
   "cell_type": "code",
   "execution_count": 57,
   "metadata": {},
   "outputs": [],
   "source": [
    "WIDTH, HEIGHT = 700, 800\n",
    "BG_COLOR = \"white\"\n",
    "ROWS, COLS = 10, 20\n",
    "MINES = 15\n",
    "\n",
    "pygame.init()\n",
    "NUM_FONT = pygame.font.SysFont('comicsans', 20)\n",
    "NUM_COLORS = {1: \"black\", 2: \"green\", 3: \"red\", 4: \"orange\", 5: \"yellow\", 6: \"purple\", 7: \"blue\", 8: \"pink\"}\n",
    "\n",
    "RECT_COLOR = (200, 200, 200)\n",
    "CLICKED_RECT_COLOR = (140, 140, 140)"
   ]
  },
  {
   "cell_type": "markdown",
   "metadata": {},
   "source": [
    "### functions"
   ]
  },
  {
   "cell_type": "code",
   "execution_count": 58,
   "metadata": {},
   "outputs": [],
   "source": [
    "def create_mine_field(rows, cols, mines):\n",
    "    field = [[0 for _ in range(cols)] for _ in range(rows)]\n",
    "    mine_positions = set()\n",
    "\n",
    "    while len(mine_positions) < mines:\n",
    "        row = random.randrange(0, rows)\n",
    "        col = random.randrange(0, cols)\n",
    "        pos = row, col\n",
    "\n",
    "        if pos in mine_positions:\n",
    "            continue\n",
    "\n",
    "        mine_positions.add(pos)\n",
    "        field[row][col] = -1\n",
    "    \n",
    "    for mine in mine_positions:\n",
    "        neighbors = get_neighbors(*mine, rows, cols)\n",
    "        for r, c in neighbors:\n",
    "            if field[r][c] != -1:\n",
    "                field[r][c] += 1\n",
    "    \n",
    "    return field\n"
   ]
  },
  {
   "cell_type": "code",
   "execution_count": 59,
   "metadata": {},
   "outputs": [],
   "source": [
    "def draw(win, field, cover_field):\n",
    "    win.fill(BG_COLOR)\n",
    "\n",
    "    size = WIDTH / ROWS\n",
    "    for i, row in enumerate(field):\n",
    "        y = size * i\n",
    "        for j, value in enumerate(row):\n",
    "            x = size*j\n",
    "            \n",
    "            pygame.draw.rect(win, RECT_COLOR, (x, y, size, size))\n",
    "            pygame.draw.rect(win, \"black\", (x, y, size, size), 2)\n",
    "            if value > 0:\n",
    "                text = NUM_FONT.render(str(value), 1, NUM_COLORS[value]) # the 1 means anti aliasing\n",
    "                win.blit(text, (x + (size/2 - text.get_width()/2),y + (size/2 - text.get_height()/2)))\n",
    "\n",
    "\n",
    "    pygame.display.update()"
   ]
  },
  {
   "cell_type": "code",
   "execution_count": 60,
   "metadata": {},
   "outputs": [],
   "source": [
    "def get_neighbors(row, col, rows, cols):\n",
    "    neighbors = []\n",
    "\n",
    "    if row > 0: # UP\n",
    "        neighbors.append((row - 1, col))\n",
    "    if row < rows - 1: # DOWN\n",
    "        neighbors.append((row + 1, col))\n",
    "    if col > 0: # LEFT\n",
    "        neighbors.append((row, col - 1))\n",
    "    if col < cols - 1: # RIGHT\n",
    "        neighbors.append((row, col + 1))\n",
    "\n",
    "    if row > 0 and col > 0:\n",
    "        neighbors.append((row - 1, col -1))\n",
    "    if row < rows -1 and col < cols - 1:\n",
    "        neighbors.append((row + 1, col+1))\n",
    "    if row < rows - 1 and col > 0:\n",
    "        neighbors.append((row + 1, col - 1))\n",
    "    if row > 0 and col < cols - 1:\n",
    "        neighbors.append((row - 1, col + 1))\n",
    "\n",
    "    return neighbors"
   ]
  },
  {
   "cell_type": "markdown",
   "metadata": {},
   "source": [
    "### main function"
   ]
  },
  {
   "cell_type": "code",
   "execution_count": 61,
   "metadata": {},
   "outputs": [],
   "source": [
    "win = pygame.display.set_mode((WIDTH, HEIGHT)) # intializing window\n",
    "pygame.display.set_caption(\"Minesweeper\")\n",
    "\n",
    "run = True\n",
    "field = create_mine_field(ROWS, COLS, MINES)\n",
    "cover_field = [[0 for _ in range(COLS)] for _ in range(ROWS)]\n",
    "# print(field)\n",
    "\n",
    "while run:\n",
    "    for event in pygame.event.get():\n",
    "        if event.type == pygame.QUIT:\n",
    "            run = False\n",
    "            break\n",
    "    \n",
    "    draw(win, field, cover_field)\n",
    "pygame.quit()"
   ]
  },
  {
   "cell_type": "markdown",
   "metadata": {},
   "source": [
    "### List Comprehension notes"
   ]
  },
  {
   "cell_type": "markdown",
   "metadata": {},
   "source": [
    "**List Comprehensions**:\n",
    "    [expr for val in collection]\n",
    "    ^ first expression generates elements in the list\n",
    "        follow it with a for loop over some collection of data\n",
    "    [expr for val in collection if <test>]\n",
    "    [expr for val in collection if <test1> and <test2>]"
   ]
  },
  {
   "cell_type": "code",
   "execution_count": 62,
   "metadata": {},
   "outputs": [],
   "source": [
    "squares = [i**2 for i in range(1, 101)]\n",
    "# print(squares)\n",
    "remainders5 = [x**2 % 5 for x in range(1,101)]\n",
    "# print(remainders5)\n",
    "remainders11 = [x**2 %11 for x in range(1,101)]\n",
    "# print(remainders11)\n",
    "\n"
   ]
  }
 ],
 "metadata": {
  "interpreter": {
   "hash": "aee8b7b246df8f9039afb4144a1f6fd8d2ca17a180786b69acc140d282b71a49"
  },
  "kernelspec": {
   "display_name": "Python 3.10.4 64-bit",
   "language": "python",
   "name": "python3"
  },
  "language_info": {
   "codemirror_mode": {
    "name": "ipython",
    "version": 3
   },
   "file_extension": ".py",
   "mimetype": "text/x-python",
   "name": "python",
   "nbconvert_exporter": "python",
   "pygments_lexer": "ipython3",
   "version": "3.10.4"
  },
  "orig_nbformat": 4
 },
 "nbformat": 4,
 "nbformat_minor": 2
}
